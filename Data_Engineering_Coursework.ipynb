{
  "nbformat": 4,
  "nbformat_minor": 0,
  "metadata": {
    "colab": {
      "provenance": [],
      "authorship_tag": "ABX9TyMQ8ze8JArG61WwOs5B8aQl",
      "include_colab_link": true
    },
    "kernelspec": {
      "name": "python3",
      "display_name": "Python 3"
    },
    "language_info": {
      "name": "python"
    }
  },
  "cells": [
    {
      "cell_type": "markdown",
      "metadata": {
        "id": "view-in-github",
        "colab_type": "text"
      },
      "source": [
        "<a href=\"https://colab.research.google.com/github/RanxduG/Sri-Lanka-Formaldehyde-Level-Analysis/blob/main/Data_Engineering_Coursework.ipynb\" target=\"_parent\"><img src=\"https://colab.research.google.com/assets/colab-badge.svg\" alt=\"Open In Colab\"/></a>"
      ]
    },
    {
      "cell_type": "markdown",
      "source": [
        "#Importing Libraries"
      ],
      "metadata": {
        "id": "lmS9N7BXRfiK"
      }
    },
    {
      "cell_type": "code",
      "execution_count": 2,
      "metadata": {
        "colab": {
          "base_uri": "https://localhost:8080/"
        },
        "id": "C5d05T2Nj8cY",
        "outputId": "7d1c5f6e-8a38-472d-d23b-f7c0440d6c84"
      },
      "outputs": [
        {
          "output_type": "stream",
          "name": "stdout",
          "text": [
            "Collecting pyspark\n",
            "  Downloading pyspark-3.5.1.tar.gz (317.0 MB)\n",
            "\u001b[2K     \u001b[90m━━━━━━━━━━━━━━━━━━━━━━━━━━━━━━━━━━━━━━━━\u001b[0m \u001b[32m317.0/317.0 MB\u001b[0m \u001b[31m2.8 MB/s\u001b[0m eta \u001b[36m0:00:00\u001b[0m\n",
            "\u001b[?25h  Preparing metadata (setup.py) ... \u001b[?25l\u001b[?25hdone\n",
            "Requirement already satisfied: py4j==0.10.9.7 in /usr/local/lib/python3.10/dist-packages (from pyspark) (0.10.9.7)\n",
            "Building wheels for collected packages: pyspark\n",
            "  Building wheel for pyspark (setup.py) ... \u001b[?25l\u001b[?25hdone\n",
            "  Created wheel for pyspark: filename=pyspark-3.5.1-py2.py3-none-any.whl size=317488491 sha256=80636659a9a970b0132c139bc5adec46fe3f621ed032bb0a9ed6619063452b0d\n",
            "  Stored in directory: /root/.cache/pip/wheels/80/1d/60/2c256ed38dddce2fdd93be545214a63e02fbd8d74fb0b7f3a6\n",
            "Successfully built pyspark\n",
            "Installing collected packages: pyspark\n",
            "Successfully installed pyspark-3.5.1\n",
            "The following additional packages will be installed:\n",
            "  libxtst6 openjdk-8-jre-headless\n",
            "Suggested packages:\n",
            "  openjdk-8-demo openjdk-8-source libnss-mdns fonts-dejavu-extra fonts-nanum fonts-ipafont-gothic\n",
            "  fonts-ipafont-mincho fonts-wqy-microhei fonts-wqy-zenhei fonts-indic\n",
            "The following NEW packages will be installed:\n",
            "  libxtst6 openjdk-8-jdk-headless openjdk-8-jre-headless\n",
            "0 upgraded, 3 newly installed, 0 to remove and 45 not upgraded.\n",
            "Need to get 39.7 MB of archives.\n",
            "After this operation, 144 MB of additional disk space will be used.\n",
            "Selecting previously unselected package libxtst6:amd64.\n",
            "(Reading database ... 121753 files and directories currently installed.)\n",
            "Preparing to unpack .../libxtst6_2%3a1.2.3-1build4_amd64.deb ...\n",
            "Unpacking libxtst6:amd64 (2:1.2.3-1build4) ...\n",
            "Selecting previously unselected package openjdk-8-jre-headless:amd64.\n",
            "Preparing to unpack .../openjdk-8-jre-headless_8u402-ga-2ubuntu1~22.04_amd64.deb ...\n",
            "Unpacking openjdk-8-jre-headless:amd64 (8u402-ga-2ubuntu1~22.04) ...\n",
            "Selecting previously unselected package openjdk-8-jdk-headless:amd64.\n",
            "Preparing to unpack .../openjdk-8-jdk-headless_8u402-ga-2ubuntu1~22.04_amd64.deb ...\n",
            "Unpacking openjdk-8-jdk-headless:amd64 (8u402-ga-2ubuntu1~22.04) ...\n",
            "Setting up libxtst6:amd64 (2:1.2.3-1build4) ...\n",
            "Setting up openjdk-8-jre-headless:amd64 (8u402-ga-2ubuntu1~22.04) ...\n",
            "update-alternatives: using /usr/lib/jvm/java-8-openjdk-amd64/jre/bin/orbd to provide /usr/bin/orbd (orbd) in auto mode\n",
            "update-alternatives: using /usr/lib/jvm/java-8-openjdk-amd64/jre/bin/servertool to provide /usr/bin/servertool (servertool) in auto mode\n",
            "update-alternatives: using /usr/lib/jvm/java-8-openjdk-amd64/jre/bin/tnameserv to provide /usr/bin/tnameserv (tnameserv) in auto mode\n",
            "Setting up openjdk-8-jdk-headless:amd64 (8u402-ga-2ubuntu1~22.04) ...\n",
            "update-alternatives: using /usr/lib/jvm/java-8-openjdk-amd64/bin/clhsdb to provide /usr/bin/clhsdb (clhsdb) in auto mode\n",
            "update-alternatives: using /usr/lib/jvm/java-8-openjdk-amd64/bin/extcheck to provide /usr/bin/extcheck (extcheck) in auto mode\n",
            "update-alternatives: using /usr/lib/jvm/java-8-openjdk-amd64/bin/hsdb to provide /usr/bin/hsdb (hsdb) in auto mode\n",
            "update-alternatives: using /usr/lib/jvm/java-8-openjdk-amd64/bin/idlj to provide /usr/bin/idlj (idlj) in auto mode\n",
            "update-alternatives: using /usr/lib/jvm/java-8-openjdk-amd64/bin/javah to provide /usr/bin/javah (javah) in auto mode\n",
            "update-alternatives: using /usr/lib/jvm/java-8-openjdk-amd64/bin/jhat to provide /usr/bin/jhat (jhat) in auto mode\n",
            "update-alternatives: using /usr/lib/jvm/java-8-openjdk-amd64/bin/jsadebugd to provide /usr/bin/jsadebugd (jsadebugd) in auto mode\n",
            "update-alternatives: using /usr/lib/jvm/java-8-openjdk-amd64/bin/native2ascii to provide /usr/bin/native2ascii (native2ascii) in auto mode\n",
            "update-alternatives: using /usr/lib/jvm/java-8-openjdk-amd64/bin/schemagen to provide /usr/bin/schemagen (schemagen) in auto mode\n",
            "update-alternatives: using /usr/lib/jvm/java-8-openjdk-amd64/bin/wsgen to provide /usr/bin/wsgen (wsgen) in auto mode\n",
            "update-alternatives: using /usr/lib/jvm/java-8-openjdk-amd64/bin/wsimport to provide /usr/bin/wsimport (wsimport) in auto mode\n",
            "update-alternatives: using /usr/lib/jvm/java-8-openjdk-amd64/bin/xjc to provide /usr/bin/xjc (xjc) in auto mode\n",
            "Processing triggers for libc-bin (2.35-0ubuntu3.4) ...\n",
            "/sbin/ldconfig.real: /usr/local/lib/libtbbbind_2_0.so.3 is not a symbolic link\n",
            "\n",
            "/sbin/ldconfig.real: /usr/local/lib/libtbbbind_2_5.so.3 is not a symbolic link\n",
            "\n",
            "/sbin/ldconfig.real: /usr/local/lib/libtbbbind.so.3 is not a symbolic link\n",
            "\n",
            "/sbin/ldconfig.real: /usr/local/lib/libtbbmalloc.so.2 is not a symbolic link\n",
            "\n",
            "/sbin/ldconfig.real: /usr/local/lib/libtbb.so.12 is not a symbolic link\n",
            "\n",
            "/sbin/ldconfig.real: /usr/local/lib/libtbbmalloc_proxy.so.2 is not a symbolic link\n",
            "\n"
          ]
        }
      ],
      "source": [
        "!pip install pyspark\n",
        "!pip install -U -q PyDrive\n",
        "!apt install openjdk-8-jdk-headless -qq\n",
        "import os\n",
        "os.environ[\"JAVA_HOME\"] = \"/usr/lib/jvm/java-8-openjdk-amd64\""
      ]
    },
    {
      "cell_type": "code",
      "source": [
        "import pyspark\n",
        "from pyspark.sql import SparkSession\n",
        "from pyspark.sql.types import StructType, StructField, DoubleType, StringType\n",
        "import pyspark.sql  as pyspark_sql\n",
        "from pyspark.sql.functions import col\n",
        "from pyspark import SparkContext, SparkConf\n",
        "from google.colab import drive"
      ],
      "metadata": {
        "id": "lvayeQMPkWLC"
      },
      "execution_count": 3,
      "outputs": []
    },
    {
      "cell_type": "markdown",
      "source": [
        "#Loading Dataset"
      ],
      "metadata": {
        "id": "qF_8szW9Rkjp"
      }
    },
    {
      "cell_type": "code",
      "source": [
        "# create the session\n",
        "conf = SparkConf().set(\"spark.ui.port\", \"4050\")\n",
        "\n",
        "# create the context\n",
        "sc = pyspark.SparkContext(conf=conf)\n",
        "spark = pyspark_sql.SparkSession.builder.getOrCreate()"
      ],
      "metadata": {
        "id": "AkLjoVNHkYpY"
      },
      "execution_count": 4,
      "outputs": []
    },
    {
      "cell_type": "code",
      "source": [
        "schema = StructType([\n",
        "    StructField(\"HCHO reading\", DoubleType(), True),\n",
        "    StructField(\"Location\", StringType(), True),\n",
        "    StructField(\"Current Date\", StringType(), True),\n",
        "    StructField(\"Next Date\", StringType(), True)\n",
        "])\n"
      ],
      "metadata": {
        "id": "G0c1xQiAwk1_"
      },
      "execution_count": 5,
      "outputs": []
    },
    {
      "cell_type": "code",
      "source": [
        "drive.mount(\"/content/drive\")\n",
        "\n",
        "col_mat_nuw_data = spark.read.csv(\"/content/drive/My Drive/Colab Notebooks/Data Engineering Coursework/col_mat_nuw_output.csv\", header=True, schema=schema)\n",
        "kan_data = spark.read.csv(\"/content/drive/My Drive/Colab Notebooks/Data Engineering Coursework/kan_output.csv\", header=True, schema=schema)\n",
        "mon_kur_jaf_data = spark.read.csv(\"/content/drive/My Drive/Colab Notebooks/Data Engineering Coursework/mon_kur_jaf_output.csv\", header=True, schema=schema)"
      ],
      "metadata": {
        "id": "gXAOqmcwkbpW",
        "colab": {
          "base_uri": "https://localhost:8080/"
        },
        "outputId": "df1e03f2-c6e2-492e-baeb-f4925e3922f0"
      },
      "execution_count": 6,
      "outputs": [
        {
          "output_type": "stream",
          "name": "stdout",
          "text": [
            "Mounted at /content/drive\n"
          ]
        }
      ]
    },
    {
      "cell_type": "code",
      "source": [
        "print(\"Colombo, Matara & Nuwara Eliya\")\n",
        "col_mat_nuw_data.printSchema()\n",
        "\n",
        "print(\"Kandy\")\n",
        "kan_data.printSchema()\n",
        "\n",
        "print(\"Monaragala, Kurunegala & Jaffna\")\n",
        "mon_kur_jaf_data.printSchema()"
      ],
      "metadata": {
        "colab": {
          "base_uri": "https://localhost:8080/"
        },
        "id": "BX7HxCgBkft0",
        "outputId": "250c0675-587a-4c98-8b05-89d651f4ee56"
      },
      "execution_count": 7,
      "outputs": [
        {
          "output_type": "stream",
          "name": "stdout",
          "text": [
            "Colombo, Matara & Nuwara Eliya\n",
            "root\n",
            " |-- HCHO reading: double (nullable = true)\n",
            " |-- Location: string (nullable = true)\n",
            " |-- Current Date: string (nullable = true)\n",
            " |-- Next Date: string (nullable = true)\n",
            "\n",
            "Kandy\n",
            "root\n",
            " |-- HCHO reading: double (nullable = true)\n",
            " |-- Location: string (nullable = true)\n",
            " |-- Current Date: string (nullable = true)\n",
            " |-- Next Date: string (nullable = true)\n",
            "\n",
            "Monaragala, Kurunegala & Jaffna\n",
            "root\n",
            " |-- HCHO reading: double (nullable = true)\n",
            " |-- Location: string (nullable = true)\n",
            " |-- Current Date: string (nullable = true)\n",
            " |-- Next Date: string (nullable = true)\n",
            "\n"
          ]
        }
      ]
    },
    {
      "cell_type": "code",
      "source": [
        "col_mat_nuw_data.show()"
      ],
      "metadata": {
        "colab": {
          "base_uri": "https://localhost:8080/"
        },
        "id": "kx6qQJpMkjVa",
        "outputId": "20f23241-5c63-45de-807a-b43808360a42"
      },
      "execution_count": 8,
      "outputs": [
        {
          "output_type": "stream",
          "name": "stdout",
          "text": [
            "+--------------------+--------------+------------+----------+\n",
            "|        HCHO reading|      Location|Current Date| Next Date|\n",
            "+--------------------+--------------+------------+----------+\n",
            "|2.625522171968594...|Colombo Proper|  2019-01-02|2019-01-03|\n",
            "|9.852118897938794E-5|Colombo Proper|  2019-01-03|2019-01-04|\n",
            "|2.099320518114242E-4|Colombo Proper|  2019-01-04|2019-01-05|\n",
            "|1.785337298892930...|Colombo Proper|  2019-01-05|2019-01-06|\n",
            "|1.082296700235670...|Colombo Proper|  2019-01-06|2019-01-07|\n",
            "|3.926829280477309...|Colombo Proper|  2019-01-07|2019-01-08|\n",
            "|9.153156350685351E-5|Colombo Proper|  2019-01-08|2019-01-09|\n",
            "|1.205978992853015...|Colombo Proper|  2019-01-09|2019-01-10|\n",
            "|1.297723562983258...|Colombo Proper|  2019-01-10|2019-01-11|\n",
            "|2.239188166801278...|Colombo Proper|  2019-01-11|2019-01-12|\n",
            "|1.569418094178759...|Colombo Proper|  2019-01-12|2019-01-13|\n",
            "|                NULL|Colombo Proper|  2019-01-13|2019-01-14|\n",
            "|1.336291906862603...|Colombo Proper|  2019-01-14|2019-01-15|\n",
            "|6.374417842690063E-5|Colombo Proper|  2019-01-15|2019-01-16|\n",
            "|1.181062250815020...|Colombo Proper|  2019-01-16|2019-01-17|\n",
            "|2.472555222423037...|Colombo Proper|  2019-01-17|2019-01-18|\n",
            "|3.667525352047757E-5|Colombo Proper|  2019-01-18|2019-01-19|\n",
            "|4.057500868150313E-4|Colombo Proper|  2019-01-19|2019-01-20|\n",
            "|1.687856216479722...|Colombo Proper|  2019-01-20|2019-01-21|\n",
            "|3.881549328739672...|Colombo Proper|  2019-01-21|2019-01-22|\n",
            "+--------------------+--------------+------------+----------+\n",
            "only showing top 20 rows\n",
            "\n"
          ]
        }
      ]
    },
    {
      "cell_type": "code",
      "source": [
        "kan_data.show()"
      ],
      "metadata": {
        "colab": {
          "base_uri": "https://localhost:8080/"
        },
        "id": "e4ssZprKltmm",
        "outputId": "e1144989-21d1-4455-cf33-4769cf99f335"
      },
      "execution_count": 9,
      "outputs": [
        {
          "output_type": "stream",
          "name": "stdout",
          "text": [
            "+--------------------+------------+------------+----------+\n",
            "|        HCHO reading|    Location|Current Date| Next Date|\n",
            "+--------------------+------------+------------+----------+\n",
            "|9.220391253917748E-5|Kandy Proper|  2019-01-02|2019-01-03|\n",
            "|                NULL|Kandy Proper|  2019-01-03|2019-01-04|\n",
            "|1.908681983853839...|Kandy Proper|  2019-01-04|2019-01-05|\n",
            "|1.219517840206744...|Kandy Proper|  2019-01-05|2019-01-06|\n",
            "|-6.51408612938880...|Kandy Proper|  2019-01-06|2019-01-07|\n",
            "|  1.6323820639265E-4|Kandy Proper|  2019-01-07|2019-01-08|\n",
            "|-6.73520553391426...|Kandy Proper|  2019-01-08|2019-01-09|\n",
            "|1.279693658243135...|Kandy Proper|  2019-01-09|2019-01-10|\n",
            "|4.546048424126012E-5|Kandy Proper|  2019-01-10|2019-01-11|\n",
            "|3.600074175192105E-5|Kandy Proper|  2019-01-11|2019-01-12|\n",
            "|1.286629698010177E-4|Kandy Proper|  2019-01-12|2019-01-13|\n",
            "|                NULL|Kandy Proper|  2019-01-13|2019-01-14|\n",
            "|                NULL|Kandy Proper|  2019-01-14|2019-01-15|\n",
            "| 9.63639634671553E-5|Kandy Proper|  2019-01-15|2019-01-16|\n",
            "|                NULL|Kandy Proper|  2019-01-16|2019-01-17|\n",
            "|1.200971278484736...|Kandy Proper|  2019-01-17|2019-01-18|\n",
            "|-1.19724656713695...|Kandy Proper|  2019-01-18|2019-01-19|\n",
            "|2.825263761529470...|Kandy Proper|  2019-01-19|2019-01-20|\n",
            "|7.150631692646835E-5|Kandy Proper|  2019-01-20|2019-01-21|\n",
            "|2.833741508232604E-4|Kandy Proper|  2019-01-21|2019-01-22|\n",
            "+--------------------+------------+------------+----------+\n",
            "only showing top 20 rows\n",
            "\n"
          ]
        }
      ]
    },
    {
      "cell_type": "code",
      "source": [
        "mon_kur_jaf_data.show()"
      ],
      "metadata": {
        "colab": {
          "base_uri": "https://localhost:8080/"
        },
        "id": "krzXTjLnlKIs",
        "outputId": "9ed025fc-4753-44a0-f62c-0020aac12e97"
      },
      "execution_count": 10,
      "outputs": [
        {
          "output_type": "stream",
          "name": "stdout",
          "text": [
            "+--------------------+------------------+------------+----------+\n",
            "|        HCHO reading|          Location|Current Date| Next Date|\n",
            "+--------------------+------------------+------------+----------+\n",
            "|1.919914652467399E-5|Bibile, Monaragala|  2019-01-02|2019-01-03|\n",
            "|2.811447935930283...|Bibile, Monaragala|  2019-01-03|2019-01-04|\n",
            "|3.747998184385943E-5|Bibile, Monaragala|  2019-01-04|2019-01-05|\n",
            "|-1.79826087934531...|Bibile, Monaragala|  2019-01-05|2019-01-06|\n",
            "|1.457836896179902...|Bibile, Monaragala|  2019-01-06|2019-01-07|\n",
            "|2.828590802546534...|Bibile, Monaragala|  2019-01-07|2019-01-08|\n",
            "|                NULL|Bibile, Monaragala|  2019-01-08|2019-01-09|\n",
            "|1.420850167050957...|Bibile, Monaragala|  2019-01-09|2019-01-10|\n",
            "|                NULL|Bibile, Monaragala|  2019-01-10|2019-01-11|\n",
            "|2.014587947072581E-5|Bibile, Monaragala|  2019-01-11|2019-01-12|\n",
            "|1.582787663210183...|Bibile, Monaragala|  2019-01-12|2019-01-13|\n",
            "|                NULL|Bibile, Monaragala|  2019-01-13|2019-01-14|\n",
            "|                NULL|Bibile, Monaragala|  2019-01-14|2019-01-15|\n",
            "|9.952823849642218E-5|Bibile, Monaragala|  2019-01-15|2019-01-16|\n",
            "|7.484570960514249E-5|Bibile, Monaragala|  2019-01-16|2019-01-17|\n",
            "|7.736112226328797E-5|Bibile, Monaragala|  2019-01-17|2019-01-18|\n",
            "|                NULL|Bibile, Monaragala|  2019-01-18|2019-01-19|\n",
            "|3.988141010407665...|Bibile, Monaragala|  2019-01-19|2019-01-20|\n",
            "|1.891620203853342...|Bibile, Monaragala|  2019-01-20|2019-01-21|\n",
            "|1.159969926423745...|Bibile, Monaragala|  2019-01-21|2019-01-22|\n",
            "+--------------------+------------------+------------+----------+\n",
            "only showing top 20 rows\n",
            "\n"
          ]
        }
      ]
    },
    {
      "cell_type": "markdown",
      "source": [
        "#Data Preprocessing"
      ],
      "metadata": {
        "id": "bHOlD5enNwVh"
      }
    },
    {
      "cell_type": "markdown",
      "source": [
        "##Seperating Dataset"
      ],
      "metadata": {
        "id": "vF4Kh_lsRXx9"
      }
    },
    {
      "cell_type": "code",
      "source": [
        "Monaragala_Data = mon_kur_jaf_data.filter(mon_kur_jaf_data['Location'] == 'Bibile, Monaragala')"
      ],
      "metadata": {
        "id": "lqeU4ISFRbGu"
      },
      "execution_count": 38,
      "outputs": []
    },
    {
      "cell_type": "code",
      "source": [
        "Monaragala_Data.show()"
      ],
      "metadata": {
        "colab": {
          "base_uri": "https://localhost:8080/"
        },
        "id": "0IT4lXwRTAO_",
        "outputId": "554e1d72-29bd-4f7a-c3d1-68f5d2d0f03d"
      },
      "execution_count": 39,
      "outputs": [
        {
          "output_type": "stream",
          "name": "stdout",
          "text": [
            "+--------------------+------------------+------------+----------+\n",
            "|        HCHO reading|          Location|Current Date| Next Date|\n",
            "+--------------------+------------------+------------+----------+\n",
            "|1.919914652467399E-5|Bibile, Monaragala|  2019-01-02|2019-01-03|\n",
            "|2.811447935930283...|Bibile, Monaragala|  2019-01-03|2019-01-04|\n",
            "|3.747998184385943E-5|Bibile, Monaragala|  2019-01-04|2019-01-05|\n",
            "|-1.79826087934531...|Bibile, Monaragala|  2019-01-05|2019-01-06|\n",
            "|1.457836896179902...|Bibile, Monaragala|  2019-01-06|2019-01-07|\n",
            "|2.828590802546534...|Bibile, Monaragala|  2019-01-07|2019-01-08|\n",
            "|                NULL|Bibile, Monaragala|  2019-01-08|2019-01-09|\n",
            "|1.420850167050957...|Bibile, Monaragala|  2019-01-09|2019-01-10|\n",
            "|                NULL|Bibile, Monaragala|  2019-01-10|2019-01-11|\n",
            "|2.014587947072581E-5|Bibile, Monaragala|  2019-01-11|2019-01-12|\n",
            "|1.582787663210183...|Bibile, Monaragala|  2019-01-12|2019-01-13|\n",
            "|                NULL|Bibile, Monaragala|  2019-01-13|2019-01-14|\n",
            "|                NULL|Bibile, Monaragala|  2019-01-14|2019-01-15|\n",
            "|9.952823849642218E-5|Bibile, Monaragala|  2019-01-15|2019-01-16|\n",
            "|7.484570960514249E-5|Bibile, Monaragala|  2019-01-16|2019-01-17|\n",
            "|7.736112226328797E-5|Bibile, Monaragala|  2019-01-17|2019-01-18|\n",
            "|                NULL|Bibile, Monaragala|  2019-01-18|2019-01-19|\n",
            "|3.988141010407665...|Bibile, Monaragala|  2019-01-19|2019-01-20|\n",
            "|1.891620203853342...|Bibile, Monaragala|  2019-01-20|2019-01-21|\n",
            "|1.159969926423745...|Bibile, Monaragala|  2019-01-21|2019-01-22|\n",
            "+--------------------+------------------+------------+----------+\n",
            "only showing top 20 rows\n",
            "\n"
          ]
        }
      ]
    },
    {
      "cell_type": "code",
      "source": [
        "Kurunegala_Data = mon_kur_jaf_data.filter(mon_kur_jaf_data['Location'] == 'Kurunegala Proper')"
      ],
      "metadata": {
        "id": "fxn0K3QGTGyr"
      },
      "execution_count": 40,
      "outputs": []
    },
    {
      "cell_type": "code",
      "source": [
        "Kurunegala_Data.show()"
      ],
      "metadata": {
        "colab": {
          "base_uri": "https://localhost:8080/"
        },
        "id": "VISTfbTjTnoD",
        "outputId": "acaa83c1-9e1e-442c-b64e-b183ace3a177"
      },
      "execution_count": 41,
      "outputs": [
        {
          "output_type": "stream",
          "name": "stdout",
          "text": [
            "+--------------------+-----------------+------------+----------+\n",
            "|        HCHO reading|         Location|Current Date| Next Date|\n",
            "+--------------------+-----------------+------------+----------+\n",
            "|8.829725542537962E-5|Kurunegala Proper|  2019-01-01|2019-01-02|\n",
            "|1.370787402778218...|Kurunegala Proper|  2019-01-02|2019-01-03|\n",
            "|1.480085027113037E-4|Kurunegala Proper|  2019-01-03|2019-01-04|\n",
            "|-2.04637905973554...|Kurunegala Proper|  2019-01-04|2019-01-05|\n",
            "|2.489134742856164E-4|Kurunegala Proper|  2019-01-05|2019-01-06|\n",
            "|1.015583300177078...|Kurunegala Proper|  2019-01-06|2019-01-07|\n",
            "|1.919056668190272...|Kurunegala Proper|  2019-01-07|2019-01-08|\n",
            "|1.215500456138868...|Kurunegala Proper|  2019-01-08|2019-01-09|\n",
            "|9.741700467262773E-5|Kurunegala Proper|  2019-01-09|2019-01-10|\n",
            "|1.130342628012010...|Kurunegala Proper|  2019-01-10|2019-01-11|\n",
            "|7.047632943988818E-5|Kurunegala Proper|  2019-01-11|2019-01-12|\n",
            "|1.691712548577679E-4|Kurunegala Proper|  2019-01-12|2019-01-13|\n",
            "|                NULL|Kurunegala Proper|  2019-01-13|2019-01-14|\n",
            "|                NULL|Kurunegala Proper|  2019-01-14|2019-01-15|\n",
            "|8.792493954777681E-5|Kurunegala Proper|  2019-01-15|2019-01-16|\n",
            "|6.834336052834083E-5|Kurunegala Proper|  2019-01-16|2019-01-17|\n",
            "|1.380624797849095...|Kurunegala Proper|  2019-01-17|2019-01-18|\n",
            "|1.738223309452633...|Kurunegala Proper|  2019-01-18|2019-01-19|\n",
            "|4.428761270622924E-4|Kurunegala Proper|  2019-01-19|2019-01-20|\n",
            "|9.756178281847059E-5|Kurunegala Proper|  2019-01-20|2019-01-21|\n",
            "+--------------------+-----------------+------------+----------+\n",
            "only showing top 20 rows\n",
            "\n"
          ]
        }
      ]
    },
    {
      "cell_type": "code",
      "source": [
        "Jaffna_Data = mon_kur_jaf_data.filter(mon_kur_jaf_data['Location'] == 'Jaffna Proper')"
      ],
      "metadata": {
        "id": "wtVFcniBTpoI"
      },
      "execution_count": 42,
      "outputs": []
    },
    {
      "cell_type": "code",
      "source": [
        "Jaffna_Data.show()"
      ],
      "metadata": {
        "colab": {
          "base_uri": "https://localhost:8080/"
        },
        "id": "_e9hE1L2UthB",
        "outputId": "41c0a18a-ef21-4f77-a4bd-80bac24e1dee"
      },
      "execution_count": 43,
      "outputs": [
        {
          "output_type": "stream",
          "name": "stdout",
          "text": [
            "+--------------------+-------------+------------+----------+\n",
            "|        HCHO reading|     Location|Current Date| Next Date|\n",
            "+--------------------+-------------+------------+----------+\n",
            "|5.830909719406619E-5|Jaffna Proper|  2019-01-01|2019-01-02|\n",
            "|1.017952795536237...|Jaffna Proper|  2019-01-02|2019-01-03|\n",
            "| 3.93133105404262E-5|Jaffna Proper|  2019-01-03|2019-01-04|\n",
            "|-2.38398465761844...|Jaffna Proper|  2019-01-04|2019-01-05|\n",
            "|1.589137302293815...|Jaffna Proper|  2019-01-05|2019-01-06|\n",
            "|7.539679629744287E-5|Jaffna Proper|  2019-01-06|2019-01-07|\n",
            "|1.799237734955577...|Jaffna Proper|  2019-01-07|2019-01-08|\n",
            "|9.470708011674723E-5|Jaffna Proper|  2019-01-08|2019-01-09|\n",
            "|2.109364950895559E-6|Jaffna Proper|  2019-01-09|2019-01-10|\n",
            "|1.318967807501841...|Jaffna Proper|  2019-01-10|2019-01-11|\n",
            "|1.337016372402064...|Jaffna Proper|  2019-01-11|2019-01-12|\n",
            "|5.957003084127642...|Jaffna Proper|  2019-01-12|2019-01-13|\n",
            "|-4.15786713782524...|Jaffna Proper|  2019-01-13|2019-01-14|\n",
            "|2.010835129084908E-5|Jaffna Proper|  2019-01-14|2019-01-15|\n",
            "| 3.94847944175773E-5|Jaffna Proper|  2019-01-15|2019-01-16|\n",
            "|6.686277882732807E-5|Jaffna Proper|  2019-01-16|2019-01-17|\n",
            "|5.181844525430039...|Jaffna Proper|  2019-01-17|2019-01-18|\n",
            "|9.154995885051223E-5|Jaffna Proper|  2019-01-18|2019-01-19|\n",
            "|1.707625620314082E-5|Jaffna Proper|  2019-01-19|2019-01-20|\n",
            "|-5.27678613707607...|Jaffna Proper|  2019-01-20|2019-01-21|\n",
            "+--------------------+-------------+------------+----------+\n",
            "only showing top 20 rows\n",
            "\n"
          ]
        }
      ]
    },
    {
      "cell_type": "code",
      "source": [
        "Colombo_Data = col_mat_nuw_data.filter(col_mat_nuw_data['Location'] == 'Colombo Proper')"
      ],
      "metadata": {
        "id": "QQRDBsNIUwWR"
      },
      "execution_count": 44,
      "outputs": []
    },
    {
      "cell_type": "code",
      "source": [
        "Colombo_Data.show()"
      ],
      "metadata": {
        "colab": {
          "base_uri": "https://localhost:8080/"
        },
        "id": "Yc6SFuAmVEQK",
        "outputId": "a3181257-a153-403a-9f9e-a9e8459169ea"
      },
      "execution_count": 45,
      "outputs": [
        {
          "output_type": "stream",
          "name": "stdout",
          "text": [
            "+--------------------+--------------+------------+----------+\n",
            "|        HCHO reading|      Location|Current Date| Next Date|\n",
            "+--------------------+--------------+------------+----------+\n",
            "|2.625522171968594...|Colombo Proper|  2019-01-02|2019-01-03|\n",
            "|9.852118897938794E-5|Colombo Proper|  2019-01-03|2019-01-04|\n",
            "|2.099320518114242E-4|Colombo Proper|  2019-01-04|2019-01-05|\n",
            "|1.785337298892930...|Colombo Proper|  2019-01-05|2019-01-06|\n",
            "|1.082296700235670...|Colombo Proper|  2019-01-06|2019-01-07|\n",
            "|3.926829280477309...|Colombo Proper|  2019-01-07|2019-01-08|\n",
            "|9.153156350685351E-5|Colombo Proper|  2019-01-08|2019-01-09|\n",
            "|1.205978992853015...|Colombo Proper|  2019-01-09|2019-01-10|\n",
            "|1.297723562983258...|Colombo Proper|  2019-01-10|2019-01-11|\n",
            "|2.239188166801278...|Colombo Proper|  2019-01-11|2019-01-12|\n",
            "|1.569418094178759...|Colombo Proper|  2019-01-12|2019-01-13|\n",
            "|                NULL|Colombo Proper|  2019-01-13|2019-01-14|\n",
            "|1.336291906862603...|Colombo Proper|  2019-01-14|2019-01-15|\n",
            "|6.374417842690063E-5|Colombo Proper|  2019-01-15|2019-01-16|\n",
            "|1.181062250815020...|Colombo Proper|  2019-01-16|2019-01-17|\n",
            "|2.472555222423037...|Colombo Proper|  2019-01-17|2019-01-18|\n",
            "|3.667525352047757E-5|Colombo Proper|  2019-01-18|2019-01-19|\n",
            "|4.057500868150313E-4|Colombo Proper|  2019-01-19|2019-01-20|\n",
            "|1.687856216479722...|Colombo Proper|  2019-01-20|2019-01-21|\n",
            "|3.881549328739672...|Colombo Proper|  2019-01-21|2019-01-22|\n",
            "+--------------------+--------------+------------+----------+\n",
            "only showing top 20 rows\n",
            "\n"
          ]
        }
      ]
    },
    {
      "cell_type": "code",
      "source": [
        "Deniyaya_Matara_Data = col_mat_nuw_data.filter(col_mat_nuw_data['Location'] == 'Deniyaya, Matara')"
      ],
      "metadata": {
        "id": "-mFISnXfVIEq"
      },
      "execution_count": 46,
      "outputs": []
    },
    {
      "cell_type": "code",
      "source": [
        "Deniyaya_Matara_Data.show()"
      ],
      "metadata": {
        "colab": {
          "base_uri": "https://localhost:8080/"
        },
        "id": "FU2bLu9vVkhU",
        "outputId": "1eee6722-db0d-4084-ad28-ab2af293b883"
      },
      "execution_count": 47,
      "outputs": [
        {
          "output_type": "stream",
          "name": "stdout",
          "text": [
            "+--------------------+----------------+------------+----------+\n",
            "|        HCHO reading|        Location|Current Date| Next Date|\n",
            "+--------------------+----------------+------------+----------+\n",
            "|                NULL|Deniyaya, Matara|  2019-01-01|2019-01-02|\n",
            "|5.803530712000793E-6|Deniyaya, Matara|  2019-01-02|2019-01-03|\n",
            "|2.362357772653922...|Deniyaya, Matara|  2019-01-03|2019-01-04|\n",
            "|6.437245753953118E-5|Deniyaya, Matara|  2019-01-04|2019-01-05|\n",
            "|5.349707092885017E-5|Deniyaya, Matara|  2019-01-05|2019-01-06|\n",
            "|1.315594859189690...|Deniyaya, Matara|  2019-01-06|2019-01-07|\n",
            "|6.269859896976347E-5|Deniyaya, Matara|  2019-01-07|2019-01-08|\n",
            "|2.298263979970634E-5|Deniyaya, Matara|  2019-01-08|2019-01-09|\n",
            "|                NULL|Deniyaya, Matara|  2019-01-09|2019-01-10|\n",
            "|7.190247186715247E-5|Deniyaya, Matara|  2019-01-10|2019-01-11|\n",
            "|1.542091441034087...|Deniyaya, Matara|  2019-01-11|2019-01-12|\n",
            "|1.406986305217021E-4|Deniyaya, Matara|  2019-01-12|2019-01-13|\n",
            "|                NULL|Deniyaya, Matara|  2019-01-13|2019-01-14|\n",
            "|                NULL|Deniyaya, Matara|  2019-01-14|2019-01-15|\n",
            "|7.187311712186784E-5|Deniyaya, Matara|  2019-01-15|2019-01-16|\n",
            "|3.505307540763169...|Deniyaya, Matara|  2019-01-16|2019-01-17|\n",
            "|1.694853136055890...|Deniyaya, Matara|  2019-01-17|2019-01-18|\n",
            "|3.082256948783728E-4|Deniyaya, Matara|  2019-01-18|2019-01-19|\n",
            "|8.997101837438971E-4|Deniyaya, Matara|  2019-01-19|2019-01-20|\n",
            "|6.037526628542451...|Deniyaya, Matara|  2019-01-20|2019-01-21|\n",
            "+--------------------+----------------+------------+----------+\n",
            "only showing top 20 rows\n",
            "\n"
          ]
        }
      ]
    },
    {
      "cell_type": "code",
      "source": [
        "Nuwara_Eliya_Data = col_mat_nuw_data.filter(col_mat_nuw_data['Location'] == 'Nuwara Eliya Proper')"
      ],
      "metadata": {
        "id": "QXEWaOw5VTDb"
      },
      "execution_count": 48,
      "outputs": []
    },
    {
      "cell_type": "code",
      "source": [
        "Nuwara_Eliya_Data.show()"
      ],
      "metadata": {
        "colab": {
          "base_uri": "https://localhost:8080/"
        },
        "id": "xh9yxzGuVmnQ",
        "outputId": "265af646-a691-4757-9672-cf8fbd92246e"
      },
      "execution_count": 49,
      "outputs": [
        {
          "output_type": "stream",
          "name": "stdout",
          "text": [
            "+--------------------+-------------------+------------+----------+\n",
            "|        HCHO reading|           Location|Current Date| Next Date|\n",
            "+--------------------+-------------------+------------+----------+\n",
            "|                NULL|Nuwara Eliya Proper|  2019-01-01|2019-01-02|\n",
            "|                NULL|Nuwara Eliya Proper|  2019-01-02|2019-01-03|\n",
            "|1.908293886956784...|Nuwara Eliya Proper|  2019-01-03|2019-01-04|\n",
            "|5.097625917127737...|Nuwara Eliya Proper|  2019-01-04|2019-01-05|\n",
            "|6.456645496655256E-5|Nuwara Eliya Proper|  2019-01-05|2019-01-06|\n",
            "|8.982348709518115E-5|Nuwara Eliya Proper|  2019-01-06|2019-01-07|\n",
            "|4.097797651418246E-5|Nuwara Eliya Proper|  2019-01-07|2019-01-08|\n",
            "|                NULL|Nuwara Eliya Proper|  2019-01-08|2019-01-09|\n",
            "|                NULL|Nuwara Eliya Proper|  2019-01-09|2019-01-10|\n",
            "|                NULL|Nuwara Eliya Proper|  2019-01-10|2019-01-11|\n",
            "|3.914670787137749E-5|Nuwara Eliya Proper|  2019-01-11|2019-01-12|\n",
            "|                NULL|Nuwara Eliya Proper|  2019-01-12|2019-01-13|\n",
            "|                NULL|Nuwara Eliya Proper|  2019-01-13|2019-01-14|\n",
            "|4.211950727039948E-5|Nuwara Eliya Proper|  2019-01-14|2019-01-15|\n",
            "| 4.27055256923008E-5|Nuwara Eliya Proper|  2019-01-15|2019-01-16|\n",
            "|                NULL|Nuwara Eliya Proper|  2019-01-16|2019-01-17|\n",
            "|1.077155480912246...|Nuwara Eliya Proper|  2019-01-17|2019-01-18|\n",
            "|2.102198391761669...|Nuwara Eliya Proper|  2019-01-18|2019-01-19|\n",
            "|3.517782260834605...|Nuwara Eliya Proper|  2019-01-19|2019-01-20|\n",
            "| 8.95718212363389E-6|Nuwara Eliya Proper|  2019-01-20|2019-01-21|\n",
            "+--------------------+-------------------+------------+----------+\n",
            "only showing top 20 rows\n",
            "\n"
          ]
        }
      ]
    },
    {
      "cell_type": "markdown",
      "source": [
        "Saving Seperated Datasets"
      ],
      "metadata": {
        "id": "AUJRSrxBWJFc"
      }
    },
    {
      "cell_type": "code",
      "source": [
        "import pandas as pd"
      ],
      "metadata": {
        "id": "mU0wlVA9_ho5"
      },
      "execution_count": 50,
      "outputs": []
    },
    {
      "cell_type": "code",
      "source": [
        "# Convert the subset data to Pandas DataFrame\n",
        "Monaragala_Data_pd = Monaragala_Data.toPandas()\n",
        "Kurunegala_Data_pd = Kurunegala_Data.toPandas()\n",
        "Jaffna_Data_pd = Jaffna_Data.toPandas()\n",
        "Colombo_Data_pd = Colombo_Data.toPandas()\n",
        "Deniyaya_Matara_Data_pd = Deniyaya_Matara_Data.toPandas()\n",
        "Nuwara_Eliya_Data_pd = Nuwara_Eliya_Data.toPandas()"
      ],
      "metadata": {
        "id": "TeW3F2qX4Zg6"
      },
      "execution_count": 51,
      "outputs": []
    },
    {
      "cell_type": "code",
      "source": [
        "Colombo_Data_pd.to_csv('/content/drive/My Drive/Colab Notebooks/Data Engineering Coursework/colombo_data.csv', index=False)"
      ],
      "metadata": {
        "id": "Ha668p7oVpjQ"
      },
      "execution_count": 52,
      "outputs": []
    },
    {
      "cell_type": "code",
      "source": [
        "Deniyaya_Matara_Data_pd.to_csv('/content/drive/My Drive/Colab Notebooks/Data Engineering Coursework/deniyaya_matara_data.csv', index=False)"
      ],
      "metadata": {
        "id": "ZRyck2ZaW-hR"
      },
      "execution_count": 53,
      "outputs": []
    },
    {
      "cell_type": "code",
      "source": [
        "Nuwara_Eliya_Data_pd.to_csv('/content/drive/My Drive/Colab Notebooks/Data Engineering Coursework/nuwara_eliye_data.csv', index=False)"
      ],
      "metadata": {
        "id": "D2hetxPCXCFF"
      },
      "execution_count": 54,
      "outputs": []
    },
    {
      "cell_type": "code",
      "source": [
        "Monaragala_Data_pd.to_csv('/content/drive/My Drive/Colab Notebooks/Data Engineering Coursework/monaragala_data.csv', index=False)"
      ],
      "metadata": {
        "id": "NITaPwOsXa37"
      },
      "execution_count": 55,
      "outputs": []
    },
    {
      "cell_type": "code",
      "source": [
        "Kurunegala_Data_pd.to_csv('/content/drive/My Drive/Colab Notebooks/Data Engineering Coursework/kurunegala_data.csv', index=False)"
      ],
      "metadata": {
        "id": "Ytr6fL2mXe2b"
      },
      "execution_count": 56,
      "outputs": []
    },
    {
      "cell_type": "code",
      "source": [
        "Jaffna_Data_pd.to_csv('/content/drive/My Drive/Colab Notebooks/Data Engineering Coursework/jaffna_data.csv', index=False)"
      ],
      "metadata": {
        "id": "H35WqmA1XQj2"
      },
      "execution_count": 57,
      "outputs": []
    },
    {
      "cell_type": "markdown",
      "source": [
        "#Preprocessing"
      ],
      "metadata": {
        "id": "B-Zgx8Q1BC7S"
      }
    },
    {
      "cell_type": "markdown",
      "source": [
        "##Looking for null values"
      ],
      "metadata": {
        "id": "K5aaaqJQBV5v"
      }
    },
    {
      "cell_type": "code",
      "source": [
        "def null_values_per_column(df, name):\n",
        "    for col in df.columns:\n",
        "        null_count = df.filter(df[col].isNull()).count()\n",
        "        if null_count > 0:\n",
        "            print(f\"City: {name}, Column: '{col}', Number of null values: {null_count}\")\n"
      ],
      "metadata": {
        "id": "nsALyfOhXsX5"
      },
      "execution_count": 67,
      "outputs": []
    },
    {
      "cell_type": "code",
      "source": [
        "null_values_per_column(Colombo_Data, 'Colombo')\n",
        "null_values_per_column(Deniyaya_Matara_Data, 'Matara')\n",
        "null_values_per_column(Nuwara_Eliya_Data, 'Nuwara Eliye')\n",
        "null_values_per_column(Monaragala_Data, 'Monaragala')\n",
        "null_values_per_column(Kurunegala_Data, 'Kurunegala')\n",
        "null_values_per_column(Jaffna_Data, 'Jaffna')\n",
        "null_values_per_column(kan_data, 'Kandy')"
      ],
      "metadata": {
        "colab": {
          "base_uri": "https://localhost:8080/"
        },
        "id": "BvPiR4Q6De_r",
        "outputId": "e1a6c92b-aadc-46c7-9cce-d4411fe9914b"
      },
      "execution_count": 70,
      "outputs": [
        {
          "output_type": "stream",
          "name": "stdout",
          "text": [
            "City: Colombo, Column: 'HCHO reading', Number of null values: 487\n",
            "City: Matara, Column: 'HCHO reading', Number of null values: 847\n",
            "City: Nuwara Eliye, Column: 'HCHO reading', Number of null values: 1085\n",
            "City: Monaragala, Column: 'HCHO reading', Number of null values: 694\n",
            "City: Kurunegala, Column: 'HCHO reading', Number of null values: 592\n",
            "City: Jaffna, Column: 'HCHO reading', Number of null values: 365\n",
            "City: Kandy, Column: 'HCHO reading', Number of null values: 793\n"
          ]
        }
      ]
    },
    {
      "cell_type": "code",
      "source": [
        "from pyspark.sql.functions import date_format, current_date, month, avg\n",
        "colombo_monthly_avg_data = Colombo_Data.groupBy(date_format('Current Date', 'yyyy-MM').alias('month')).agg(avg('HCHO reading').alias('average_HCHO_level'))"
      ],
      "metadata": {
        "id": "4P9YBMLYDxBW"
      },
      "execution_count": 99,
      "outputs": []
    },
    {
      "cell_type": "code",
      "source": [
        "colombo_monthly_avg_sorted_data = colombo_monthly_avg_data.orderBy('month')"
      ],
      "metadata": {
        "id": "ZfJ-o9B9NkMQ"
      },
      "execution_count": 100,
      "outputs": []
    },
    {
      "cell_type": "code",
      "source": [
        "colombo_monthly_avg_sorted_data.show()"
      ],
      "metadata": {
        "colab": {
          "base_uri": "https://localhost:8080/"
        },
        "id": "n02FO1TyNCkz",
        "outputId": "c67ebbcf-5f66-48f8-ecc1-f37cb1304218"
      },
      "execution_count": 101,
      "outputs": [
        {
          "output_type": "stream",
          "name": "stdout",
          "text": [
            "+-------+--------------------+\n",
            "|  month|  average_HCHO_level|\n",
            "+-------+--------------------+\n",
            "|2019-01|2.008040909444514E-4|\n",
            "|2019-02|2.446558971944704E-4|\n",
            "|2019-03|2.553024491482505...|\n",
            "|2019-04|1.963118698358205...|\n",
            "|2019-05|1.264465614173157...|\n",
            "|2019-06|1.167658431850213...|\n",
            "|2019-07| 8.86345422326414E-5|\n",
            "|2019-08|8.027000862264967E-5|\n",
            "|2019-09|9.133443359033474E-5|\n",
            "|2019-10|1.398567434949973E-4|\n",
            "|2019-11|1.666297547699210...|\n",
            "|2019-12|1.654320099839365...|\n",
            "|2020-01|1.987663384742992...|\n",
            "|2020-02|2.833397927000039...|\n",
            "|2020-03|2.663517149952217E-4|\n",
            "|2020-04|1.633061172822372...|\n",
            "|2020-05|1.390083923449208...|\n",
            "|2020-06|8.944409953317487E-5|\n",
            "|2020-07|1.197158236553460...|\n",
            "|2020-08|8.745861616791938E-5|\n",
            "+-------+--------------------+\n",
            "only showing top 20 rows\n",
            "\n"
          ]
        }
      ]
    },
    {
      "cell_type": "code",
      "source": [
        "import matplotlib.pyplot as plt\n",
        "\n",
        "def plot_HCHO_level_average_vs_month_graph(df):\n",
        "  pandas_df = df.toPandas()\n",
        "\n",
        "  # Plot the data\n",
        "  plt.figure(figsize=(10, 6))\n",
        "  plt.plot(pandas_df['month'], pandas_df['average_HCHO_level'], marker='o', color='b')\n",
        "\n",
        "  # Add title and labels\n",
        "  plt.title('Monthly Average HCHO Level in Colombo')\n",
        "  plt.xlabel('Month')\n",
        "  plt.ylabel('Average HCHO Level')\n",
        "\n",
        "  # Rotate x-axis labels for better readability\n",
        "  plt.xticks(rotation=90)\n",
        "\n",
        "  # Display the plot\n",
        "  plt.grid(True)\n",
        "  plt.tight_layout()\n",
        "  plt.show()"
      ],
      "metadata": {
        "id": "nC2ouLmVKajZ"
      },
      "execution_count": 102,
      "outputs": []
    },
    {
      "cell_type": "code",
      "source": [
        "plot_HCHO_level_average_vs_month_graph(colombo_monthly_avg_sorted_data)"
      ],
      "metadata": {
        "colab": {
          "base_uri": "https://localhost:8080/",
          "height": 594
        },
        "id": "BjqvNk1KML0P",
        "outputId": "7c911aad-4f16-40ce-f7dd-a4428c569da5"
      },
      "execution_count": 103,
      "outputs": [
        {
          "output_type": "display_data",
          "data": {
            "text/plain": [
              "<Figure size 1000x600 with 1 Axes>"
            ],
            "image/png": "[encoded data removed]"
          },
          "metadata": {}
        }
      ]
    },
    {
      "cell_type": "code",
      "source": [],
      "metadata": {
        "id": "tAJvlA-ZMQrX"
      },
      "execution_count": null,
      "outputs": []
    }
  ]
}